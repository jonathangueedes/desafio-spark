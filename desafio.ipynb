{
 "cells": [
  {
   "cell_type": "markdown",
   "metadata": {},
   "source": [
    "### Importando a biblioteca pyspark e criando uma sessão e contexto do spark para utilização"
   ]
  },
  {
   "cell_type": "code",
   "execution_count": null,
   "metadata": {},
   "outputs": [],
   "source": [
    "from pyspark.sql import SparkSession\n",
    "\n",
    "spark = SparkSession \\\n",
    "    .builder \\\n",
    "    .appName(\"etl\") \\\n",
    "    .getOrCreate()"
   ]
  },
  {
   "cell_type": "markdown",
   "metadata": {},
   "source": [
    "### Importando o arquivo de mapeamento para conversão de data types"
   ]
  },
  {
   "cell_type": "code",
   "execution_count": null,
   "metadata": {},
   "outputs": [],
   "source": [
    "mappings = spark.read.option(\"multiline\",\"true\").json('config/types_mapping.json')"
   ]
  },
  {
   "cell_type": "code",
   "execution_count": null,
   "metadata": {},
   "outputs": [],
   "source": [
    "mappings.show()"
   ]
  },
  {
   "cell_type": "code",
   "execution_count": null,
   "metadata": {},
   "outputs": [],
   "source": [
    "mappings = mappings.select(\"age\", \"create_date\", \"update_date\").first()"
   ]
  },
  {
   "cell_type": "markdown",
   "metadata": {},
   "source": [
    "### Importando o arquivo .csv de input"
   ]
  },
  {
   "cell_type": "code",
   "execution_count": null,
   "metadata": {},
   "outputs": [],
   "source": [
    "df = spark.read.csv('data/input/load.csv', header='true')"
   ]
  },
  {
   "cell_type": "markdown",
   "metadata": {},
   "source": [
    "### Ordenando o dataframe para Utilizar o update_date como filtro para obter os dados mais novos"
   ]
  },
  {
   "cell_type": "code",
   "execution_count": null,
   "metadata": {},
   "outputs": [],
   "source": [
    "from pyspark.sql.functions import col, max as max_\n",
    "df_ordenado = df.withColumn(\"update_date\", col(\"update_date\").cast(\"timestamp\")).groupBy(\"id\", \"name\", \"email\", \"phone\", \"address\", \"age\", \"create_date\", \"update_date\").agg(max_(\"update_date\"))"
   ]
  },
  {
   "cell_type": "markdown",
   "metadata": {},
   "source": [
    "### Coletando apenas o ultimo registro de cada ID com o filtro de data mais recente da coluna Update_date e convertendo os datatypes fornecidos no arquivo JSON de mapeamento que foi carregado no inicio do processo."
   ]
  },
  {
   "cell_type": "code",
   "execution_count": null,
   "metadata": {},
   "outputs": [],
   "source": [
    "from pyspark.sql.functions import col, max as max_\n",
    "\n",
    "df_transformado = df_ordenado.withColumn(\"update_date\", col(\"update_date\").cast(mappings.update_date)) \\\n",
    "    .withColumn(\"create_date\", col(\"create_date\").cast(mappings.create_date)) \\\n",
    "    .withColumn(\"age\", col(\"age\").cast(mappings.age)) \\\n",
    "    .groupBy(\"id\", \"name\", \"email\", \"phone\", \"address\", \"age\", \"create_date\").agg(max_(\"update_date\")) \\\n",
    "    .dropDuplicates([\"id\"]).orderBy(\"id\")"
   ]
  },
  {
   "cell_type": "code",
   "execution_count": null,
   "metadata": {},
   "outputs": [],
   "source": [
    "df_transformado.printSchema()"
   ]
  },
  {
   "cell_type": "markdown",
   "metadata": {},
   "source": [
    "### Renomeando a coluna para update_date"
   ]
  },
  {
   "cell_type": "code",
   "execution_count": null,
   "metadata": {},
   "outputs": [],
   "source": [
    "df_transformado = df_transformado.withColumnRenamed(\"max(update_date)\", \"update_date\")"
   ]
  },
  {
   "cell_type": "markdown",
   "metadata": {},
   "source": [
    "### Gravando o arquivo no formato parquet na pasta de saida"
   ]
  },
  {
   "cell_type": "code",
   "execution_count": null,
   "metadata": {},
   "outputs": [],
   "source": [
    "df_transformado.coalesce(1).write.mode('overwrite').parquet(\"data/output/cadastro/\")"
   ]
  },
  {
   "cell_type": "code",
   "execution_count": null,
   "metadata": {},
   "outputs": [],
   "source": [
    "dt_parquet = spark.read.parquet('data/output/cadastro/')\n",
    "dt_parquet.show()"
   ]
  }
 ],
 "metadata": {
  "kernelspec": {
   "display_name": "Python 3",
   "language": "python",
   "name": "python3"
  },
  "language_info": {
   "codemirror_mode": {
    "name": "ipython",
    "version": 3
   },
   "file_extension": ".py",
   "mimetype": "text/x-python",
   "name": "python",
   "nbconvert_exporter": "python",
   "pygments_lexer": "ipython3",
   "version": "3.8.6"
  }
 },
 "nbformat": 4,
 "nbformat_minor": 4
}
